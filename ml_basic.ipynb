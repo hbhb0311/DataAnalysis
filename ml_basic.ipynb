{
 "cells": [
  {
   "cell_type": "markdown",
   "metadata": {},
   "source": [
    "### 5.1 분류와 회귀\n",
    "#### 5.1.1 분류(classification)\n",
    "- 주어진 피처에 따라 어떤 대상을 유한한 범주(타깃값)로 구분하는 방법\n",
    "- 타깃값이 2개인 분류 : 이진분류(binary classification)\n",
    "- 타깃값이 3개 이상인 분류 : 다중분류(multiclass classification)\n",
    "\n",
    "#### 5.1.2 회귀(regression)\n",
    "- 독립변수와 종속변수 간 관계를 모델링하는 방법\n",
    "    - 독립변수(independent variable) : 영향을 미치는 변수\n",
    "    - 종속변수(dependent variable) : 영향을 받는 변수, 수치형 데이터\n",
    "- 선형회귀(linear regression)\n",
    "    - 단순 선형 회귀(simple linear regression) : 독립변수 하나와 종속변수 하나 사이의 관계를 나타낸 모델링 기법, ex. $y = \\theta_0 + \\theta_1x$\n",
    "    - 다중 선형 회귀(multiple linear regression) : 독립변수 여러 개와 종속변수 하나 사이의 관계를 나타낸 모델링 기법, ex. $y = \\theta_0 + \\theta_1x_1 + \\theta_2x_2 + \\theta_3x_3$"
   ]
  },
  {
   "cell_type": "markdown",
   "metadata": {},
   "source": [
    "##### 1) 회귀 평가지표(대부분 평가지표 값이 작을수록 모델 성능이 좋음)\n",
    "- 평균 절대 오차(MAE) : 실제 타깃값과 예측 타깃값 차의 절댓값 평균\n",
    "- 평균 제곱 오차(MSE) : 실제 타깃값과 예측 타깂값 차의 제곱의 평균\n",
    "- 평균 제곱근 오차(RMSE) : MSE에 제곱근을 취한 값\n",
    "- Mean Squared Log Error(MSLE) : MSE에서 타깃값에 로그를 취한 값\n",
    "- Root Mean Squared Log Error(RMSLE) : MSLE에 제곱근을 취한 값\n",
    "- 결정계수($R^2$) : 예측 타깃값의 분산/실제 타깃값의 분산, 다른 지표와 달리 1에 가까울수록 모델 성능이 좋음"
   ]
  },
  {
   "cell_type": "code",
   "execution_count": 2,
   "metadata": {},
   "outputs": [
    {
     "name": "stdout",
     "output_type": "stream",
     "text": [
      "MAE:\t 0.5385\n",
      "MSE:\t 0.6923\n",
      "RMSE:\t 0.8321\n",
      "MSLE:\t 0.0296\n",
      "RMSLE:\t 0.1721\n",
      "R2:\t 0.8617\n"
     ]
    }
   ],
   "source": [
    "import numpy as np\n",
    "from sklearn.metrics import mean_absolute_error, mean_squared_error, mean_squared_log_error, r2_score # MAE, MSE, MSLE, R2\n",
    "\n",
    "true  = np.array([1, 2, 3, 2, 3, 5, 4, 6, 5, 6, 7, 8, 8]) # 실젯값\n",
    "preds = np.array([1, 1, 2, 2, 3, 4, 4, 5, 5, 7, 7, 6, 8]) # 예측값\n",
    "\n",
    "MAE   = mean_absolute_error(true, preds)\n",
    "MSE   = mean_squared_error(true, preds)\n",
    "RMSE  = np.sqrt(MSE)\n",
    "MSLE  = mean_squared_log_error(true, preds)\n",
    "RMSLE = np.sqrt(MSLE)\n",
    "R2    = r2_score(true, preds)\n",
    "\n",
    "print(f'MAE:\\t {MAE:.4f}')\n",
    "print(f'MSE:\\t {MSE:.4f}')\n",
    "print(f'RMSE:\\t {RMSE:.4f}')\n",
    "print(f'MSLE:\\t {MSLE:.4f}')\n",
    "print(f'RMSLE:\\t {RMSLE:.4f}')\n",
    "print(f'R2:\\t {R2:.4f}')"
   ]
  },
  {
   "cell_type": "markdown",
   "metadata": {},
   "source": [
    "##### 2) 상관계수(correlation coefficient)\n",
    "- 두 변수 사이의 상관관계 정도를 수치로 나타낸 값\n",
    "- 피어슨 상관계수(pearson correlation coefficient) \n",
    "    - 선형 상관관계의 강도(strength)와 방향(direction)을 나타냄\n",
    "    - -1부터 1 사이의 값을 가짐\n",
    "    - 상관계수가 음수면 음의 상관관계, 양수면 양의 상관관계가 있다고 함"
   ]
  },
  {
   "cell_type": "markdown",
   "metadata": {},
   "source": [
    "### 5.2 분류 평가지표\n",
    "#### 5.2.1 오차행렬(confusion matrix) = 혼동 행렬\n",
    "- 실제 타깃값과 예측한 타깃값이 어떻게 매칭되는지를 보여주는 표(T로 시작하면 올바르게 예측, F로 시작하면 틀림)\n",
    "    - 참 양성(true positive) = TP : 실제 타깃값이 양성인데 예측도 양성\n",
    "    - 거짓 음성(false negative) = FN : 실제 타깃값은 양성인데 예측은 음성\n",
    "    - 거짓 양성(false positive) = FP : 실제 타깃값이 음성인데 예측을 양성\n",
    "    - 참 음성(true negative) = TN : 실제 타깃값이 음성인데 예측도 음성 \n",
    "\n",
    "##### 1) 정확도(accuracy)\n"
   ]
  }
 ],
 "metadata": {
  "kernelspec": {
   "display_name": "base",
   "language": "python",
   "name": "python3"
  },
  "language_info": {
   "codemirror_mode": {
    "name": "ipython",
    "version": 3
   },
   "file_extension": ".py",
   "mimetype": "text/x-python",
   "name": "python",
   "nbconvert_exporter": "python",
   "pygments_lexer": "ipython3",
   "version": "3.11.5"
  }
 },
 "nbformat": 4,
 "nbformat_minor": 2
}
